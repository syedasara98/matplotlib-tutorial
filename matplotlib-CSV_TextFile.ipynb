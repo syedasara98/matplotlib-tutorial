{
 "cells": [
  {
   "cell_type": "code",
   "execution_count": 7,
   "metadata": {},
   "outputs": [
    {
     "name": "stdout",
     "output_type": "stream",
     "text": [
      "['1', '1']\n",
      "['2', '4']\n",
      "['3', '9']\n",
      "['4', '16']\n",
      "['5', '20']\n",
      "['6', '25']\n",
      "['7', '30']\n",
      "['8', '35']\n",
      "['9', '40']\n",
      "['10', '45']\n",
      "['11', '50']\n",
      "['12', '55']\n",
      "['13', '60']\n",
      "['14', '65']\n",
      "['15', '70']\n",
      "['16', '75']\n",
      "['17', '80']\n",
      "['18', '85']\n",
      "['19', '90']\n",
      "['20', '95']\n",
      "['1', '2', '3', '4', '5', '6', '7', '8', '9', '10', '11', '12', '13', '14', '15', '16', '17', '18', '19', '20']\n",
      "['1', '4', '9', '16', '20', '25', '30', '35', '40', '45', '50', '55', '60', '65', '70', '75', '80', '85', '90', '95']\n"
     ]
    },
    {
     "data": {
      "image/png": "[encoded data removed]",
      "text/plain": [
       "<Figure size 432x288 with 1 Axes>"
      ]
     },
     "metadata": {
      "needs_background": "light"
     },
     "output_type": "display_data"
    }
   ],
   "source": [
    "import matplotlib.pyplot as plt\n",
    "import csv\n",
    "\n",
    "x=[]\n",
    "y=[]\n",
    "\n",
    "with open('test_csv.csv','r') as csvfile:\n",
    "    csv_data=csv.reader(csvfile)\n",
    "    for line in csv_data:\n",
    "        print(line)\n",
    "        x.append(line[0])\n",
    "        y.append(line[1])\n",
    "\n",
    "print(x)\n",
    "print(y)\n",
    "plt.plot(x,y,label='File')\n",
    "plt.xlabel(\"x-axis\")\n",
    "plt.ylabel(\"y-axis\")\n",
    "plt.title('Test Graph')\n",
    "plt.legend()\n",
    "plt.show()"
   ]
  },
  {
   "cell_type": "code",
   "execution_count": null,
   "metadata": {},
   "outputs": [],
   "source": []
  }
 ],
 "metadata": {
  "kernelspec": {
   "display_name": "Python 3",
   "language": "python",
   "name": "python3"
  },
  "language_info": {
   "codemirror_mode": {
    "name": "ipython",
    "version": 3
   },
   "file_extension": ".py",
   "mimetype": "text/x-python",
   "name": "python",
   "nbconvert_exporter": "python",
   "pygments_lexer": "ipython3",
   "version": "3.7.0"
  }
 },
 "nbformat": 4,
 "nbformat_minor": 4
}
